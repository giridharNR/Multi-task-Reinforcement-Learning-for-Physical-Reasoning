{
 "cells": [
  {
   "cell_type": "code",
   "execution_count": 4,
   "metadata": {},
   "outputs": [
    {
     "name": "stderr",
     "output_type": "stream",
     "text": [
      "/home/soham/USC/Courses/CSCI566_DeepLearning/create/lib/python3.8/site-packages/cffi/cparser.py:163: UserWarning: Global variable '_cpBBNewForExtents' in cdef(): for consistency with C it should have a storage class specifier (usually 'extern')\n",
      "  warnings.warn(\"Global variable '%s' in cdef(): for consistency \"\n",
      "/home/soham/USC/Courses/CSCI566_DeepLearning/create/lib/python3.8/site-packages/cffi/cparser.py:163: UserWarning: Global variable '_cpBBNewForCircle' in cdef(): for consistency with C it should have a storage class specifier (usually 'extern')\n",
      "  warnings.warn(\"Global variable '%s' in cdef(): for consistency \"\n",
      "/home/soham/USC/Courses/CSCI566_DeepLearning/create/lib/python3.8/site-packages/cffi/cparser.py:163: UserWarning: Global variable '_cpBBIntersects' in cdef(): for consistency with C it should have a storage class specifier (usually 'extern')\n",
      "  warnings.warn(\"Global variable '%s' in cdef(): for consistency \"\n",
      "/home/soham/USC/Courses/CSCI566_DeepLearning/create/lib/python3.8/site-packages/cffi/cparser.py:163: UserWarning: Global variable '_cpBBContainsBB' in cdef(): for consistency with C it should have a storage class specifier (usually 'extern')\n",
      "  warnings.warn(\"Global variable '%s' in cdef(): for consistency \"\n",
      "/home/soham/USC/Courses/CSCI566_DeepLearning/create/lib/python3.8/site-packages/cffi/cparser.py:163: UserWarning: Global variable '_cpBBContainsVect' in cdef(): for consistency with C it should have a storage class specifier (usually 'extern')\n",
      "  warnings.warn(\"Global variable '%s' in cdef(): for consistency \"\n",
      "/home/soham/USC/Courses/CSCI566_DeepLearning/create/lib/python3.8/site-packages/cffi/cparser.py:163: UserWarning: Global variable '_cpBBMerge' in cdef(): for consistency with C it should have a storage class specifier (usually 'extern')\n",
      "  warnings.warn(\"Global variable '%s' in cdef(): for consistency \"\n",
      "/home/soham/USC/Courses/CSCI566_DeepLearning/create/lib/python3.8/site-packages/cffi/cparser.py:163: UserWarning: Global variable '_cpBBExpand' in cdef(): for consistency with C it should have a storage class specifier (usually 'extern')\n",
      "  warnings.warn(\"Global variable '%s' in cdef(): for consistency \"\n",
      "/home/soham/USC/Courses/CSCI566_DeepLearning/create/lib/python3.8/site-packages/cffi/cparser.py:163: UserWarning: Global variable '_cpBBCenter' in cdef(): for consistency with C it should have a storage class specifier (usually 'extern')\n",
      "  warnings.warn(\"Global variable '%s' in cdef(): for consistency \"\n",
      "/home/soham/USC/Courses/CSCI566_DeepLearning/create/lib/python3.8/site-packages/cffi/cparser.py:163: UserWarning: Global variable '_cpBBArea' in cdef(): for consistency with C it should have a storage class specifier (usually 'extern')\n",
      "  warnings.warn(\"Global variable '%s' in cdef(): for consistency \"\n",
      "/home/soham/USC/Courses/CSCI566_DeepLearning/create/lib/python3.8/site-packages/cffi/cparser.py:163: UserWarning: Global variable '_cpBBMergedArea' in cdef(): for consistency with C it should have a storage class specifier (usually 'extern')\n",
      "  warnings.warn(\"Global variable '%s' in cdef(): for consistency \"\n",
      "/home/soham/USC/Courses/CSCI566_DeepLearning/create/lib/python3.8/site-packages/cffi/cparser.py:163: UserWarning: Global variable '_cpBBSegmentQuery' in cdef(): for consistency with C it should have a storage class specifier (usually 'extern')\n",
      "  warnings.warn(\"Global variable '%s' in cdef(): for consistency \"\n",
      "/home/soham/USC/Courses/CSCI566_DeepLearning/create/lib/python3.8/site-packages/cffi/cparser.py:163: UserWarning: Global variable '_cpBBIntersectsSegment' in cdef(): for consistency with C it should have a storage class specifier (usually 'extern')\n",
      "  warnings.warn(\"Global variable '%s' in cdef(): for consistency \"\n",
      "/home/soham/USC/Courses/CSCI566_DeepLearning/create/lib/python3.8/site-packages/cffi/cparser.py:163: UserWarning: Global variable '_cpBBClampVect' in cdef(): for consistency with C it should have a storage class specifier (usually 'extern')\n",
      "  warnings.warn(\"Global variable '%s' in cdef(): for consistency \"\n"
     ]
    },
    {
     "name": "stdout",
     "output_type": "stream",
     "text": [
      "Loading chipmunk for Linux (64bit) [/home/soham/USC/Courses/CSCI566_DeepLearning/create/lib/python3.8/site-packages/pymunk/libchipmunk.so]\n",
      "pygame 2.1.2 (SDL 2.0.16, Python 3.8.10)\n",
      "Hello from the pygame community. https://www.pygame.org/contribute.html\n"
     ]
    }
   ],
   "source": [
    "# Import `create_game` package, wherever it is located for you. \n",
    "import sys\n",
    "sys.path.insert(0, '..')\n",
    "from create_game.tool_gen import ToolGenerator\n",
    "from create_game import register_json_folder, register_json_str\n",
    "\n",
    "# Set the matplotlib settings for rendering the result video to the notebook.\n",
    "# See the comment at the bottom for more information. \n",
    "%matplotlib inline\n",
    "import matplotlib.pyplot as plt\n",
    "plt.rcParams[\"animation.html\"] = \"html5\"\n",
    "import matplotlib.animation\n",
    "import gym\n",
    "import numpy as np"
   ]
  },
  {
   "cell_type": "code",
   "execution_count": 2,
   "metadata": {},
   "outputs": [],
   "source": [
    "with open(\"/home/soham/USC/Courses/CSCI566_DeepLearning/CREATE/create_game/splits/full_clean/set_train.npy\", 'rb') as f:\n",
    "        train_set = np.load(f)"
   ]
  },
  {
   "cell_type": "code",
   "execution_count": 3,
   "metadata": {},
   "outputs": [
    {
     "data": {
      "text/plain": [
       "array([1419,  313,  320, 1466,  352,  380, 1710, 1578, 1658, 1693,  309,\n",
       "        171, 1702,  395, 1600, 1507, 2257,  336, 1700,  397,  382, 1505,\n",
       "         89,  189,  167,   85, 1652,  125, 1462, 1591, 2363,  100,  340,\n",
       "        359, 1752, 1611, 1481,  163,  281, 1821, 2349, 1564,   49,  306,\n",
       "         28,  108, 1641,  294,   58,  196, 1623, 2271, 1618, 2273, 1730,\n",
       "         77,  245, 1599, 1802, 1675, 1649, 1539,  272, 1484, 1497, 1831,\n",
       "       1589,  295,  166, 1475, 2308,  131,   74, 2305,  338,  178, 1761,\n",
       "       1741,  388,  181, 1633,   73,  372, 2344, 1428,  201,  172, 1518,\n",
       "       2261, 1615, 2276,  215,   68, 1512,  312, 1594, 1455, 2362,  317,\n",
       "        348, 1537, 2356, 2364, 1636,  339,   17, 1574,   46, 1558,  396,\n",
       "        175, 1686, 1546, 1581,    6, 1769, 1519,  153, 2316, 2295, 2286,\n",
       "         29,  264, 2313, 1592,  130,  337, 1627,  322,  390, 1483, 1610,\n",
       "       1801, 1552,   19, 1707, 1803, 2306,  354, 1762, 2347, 2325, 2289,\n",
       "         25, 1751, 1634, 2249, 1513, 1747, 1583, 1425,   36,  292,   32,\n",
       "        286, 1545, 1495, 1673,  118, 1624, 1653,  268, 2346, 2331, 1571,\n",
       "       1725, 1606,  105,  162,  120, 1522, 1605, 1604, 1813, 1764,  373,\n",
       "       1688, 1499, 2350, 1666, 1486, 2285, 1575,  117,  193, 1543, 2253,\n",
       "        260, 1593, 1510, 2333, 1479,  216,   62, 1420, 1625,   12,  133,\n",
       "         92, 1758,  314,  248,   35, 1677, 1669, 1714, 2359, 1775, 2336,\n",
       "        259, 1697, 1429, 1685, 1485, 1721,    1,  316, 2323,  233,  383,\n",
       "       1614, 2250,  165, 2314,  202, 2328,  398, 1639, 2263, 2338,  333,\n",
       "       1526, 1619,  331, 1713, 1698, 2267,   40, 1760, 1448,   44, 1749,\n",
       "        138, 2290, 1524, 1476,  185, 1540,  358,  169, 2245, 1436, 1733,\n",
       "        237, 1422, 1488, 1534, 1718, 1742,  156,   78,  326, 1681,  384,\n",
       "        126, 1740, 1799,    4, 1679, 1437, 1628, 2281, 1443, 2360,  203,\n",
       "         59, 2345, 1553,  123,  328, 1678, 1716, 1567, 1472, 1433,  360,\n",
       "       1810,  262, 1509, 2302,   94, 1622, 1739, 2300,  308, 1516, 2365,\n",
       "        334, 1498,  104, 1470,   99, 1454,  368,   67, 1547, 2307,  265,\n",
       "       1631,  249,  321,  285, 1772, 2294,  150,   95, 1807,  206, 1588,\n",
       "       1642, 1431,  230, 1655, 1822,   80,  350, 1444,  114,   91, 1748,\n",
       "       1555,  214, 1520, 1715,  132, 1598,  310, 1709, 1585,   48, 1489,\n",
       "       1728,  154,  349, 1672, 1756, 1535, 2269,  279,  305,  129, 1490,\n",
       "       1651, 1527, 1668, 2342, 1602, 1734, 1659, 2304,   52,  147, 1646,\n",
       "       1445, 1701,  332,   65, 1692, 1461,  157, 1528,  137,  288, 1465,\n",
       "         84,  198, 2266, 1805,  327, 2348, 1766,   39, 1661,  293, 1774,\n",
       "       1640,  173, 1790, 1621,  135, 1446, 1521,  124,  113, 1687, 1511,\n",
       "       1787,  270,  289, 1477, 1650, 1595,  376,   10, 1617,  228,  158,\n",
       "        374, 2355, 1603, 2310,   23, 1586, 2287,  199,   16, 2278,   20,\n",
       "        122,   76,  112,   37,  183,  140, 2335, 1788,  287, 1800, 1654,\n",
       "       2321,   71, 2296,  261, 1532, 2353, 1820,  291, 1708, 1557,  276,\n",
       "       1724, 1517, 2251, 1711,  335,  252,  161, 1451,   60, 2283,    8,\n",
       "       2341, 2292,  149, 1502,   57, 1657,  319, 1501, 1597, 2279, 1579,\n",
       "        208, 1432,  195, 2309,   50, 1665,   86, 2260, 2301, 1493,  194,\n",
       "        351, 1525, 2264, 2322, 1680, 1596,  345,    5, 1529,  300, 2303,\n",
       "        164, 2299, 2247, 1533, 1556, 1441,   97, 1797, 2256, 1500, 2340,\n",
       "         81, 1782, 1785, 2327, 1447,  190,  256,   24, 1780, 1694,  365,\n",
       "       1818, 2319, 1538, 1825,  234, 1523,  106,  141, 1580,  357, 1548,\n",
       "       1670,  142, 1427,  304, 2254, 1570, 2320,   87, 1777,  391,   47,\n",
       "          0, 2343,  218,  297,  284, 1809,  170,  174, 1452, 1587,  222,\n",
       "       1768,  266,   75,   30, 1750, 1720, 2326, 1508, 1757, 2246, 1630,\n",
       "       1828,  311,  280,  377,  229,    9,  226, 2332, 1421,  392, 1792,\n",
       "       1662, 1637, 1607,  302, 1833, 1504, 1812,  241, 1460,  121,   93,\n",
       "       1496, 1808,  379,  244, 1572, 2274, 1629,  263, 1695, 1542, 2330,\n",
       "        369, 1778,  231,  394,  191,   63, 1816, 1738,   56,  186,   72,\n",
       "       2272, 1463,    7,   79,   18,  356, 1781, 1561, 1835,  177, 1440,\n",
       "       1783, 1824, 1506,  367,  102, 1635, 1482, 1834, 1667, 2297,  207,\n",
       "          3, 1464,   66, 1609,  119,  267, 1584,  239,   82, 1438, 1722,\n",
       "         42, 1703,  361,  315, 1478, 2329,   11,   98,  128,  246, 1503,\n",
       "        168, 1773, 1566,  182,  197, 1763, 2317,   26, 1468, 1706, 1726,\n",
       "       2337, 1776,   96,  371, 1691, 1671, 1643,  389, 1573, 1590,  200,\n",
       "       1754, 1434,  204,   64, 1660, 1458,  353, 1755,  116,  393,  278,\n",
       "        364,  269,  255, 1704,  342, 1647, 1832, 1806, 1746, 1559,  127,\n",
       "       2293, 1696,  219,  151, 1784, 1582,  323, 2258, 1682, 1442,   13,\n",
       "       2318, 1689,   54, 1430, 1719, 2334,  271,  366, 1457, 1569, 1723,\n",
       "        136,  134,  325,  107, 1453, 1536, 2270,  155, 1674, 2358,    2,\n",
       "        399,  176, 1732,  236,  253, 1554,  224, 1743,  346, 1473,  240,\n",
       "       1424, 2291, 2357,  299, 1544,  184, 2324,  188, 1492, 1426,  101,\n",
       "       1563, 1664,  301,  318,  386,   90,  296,  283,  378, 1439, 2351,\n",
       "       2298,   33,  205,  192, 1836, 1577,  347,  227,  110,  209,   31,\n",
       "       1644,  329, 1480, 1729,   15, 1791,  250, 1815,  159, 1467,  187,\n",
       "        111, 1683,  254,  251,  148,  273,   55, 1737,  324,   45,   21,\n",
       "       1450,  213, 1435,  223,  160,   41,  375,   38, 1796, 1663,  274,\n",
       "       2352,   34, 2248, 1770, 1779, 1471,   83, 1550, 2252,  180, 1819,\n",
       "         53, 1744,  370, 2339,  298, 1793, 2311, 1576, 1717, 1811, 1814,\n",
       "        330, 1423,  275, 1514, 1690, 1771, 1823, 1795, 1767, 2262, 1487,\n",
       "       1648, 1474, 1699,  238,  221,   43, 2312, 1789, 1562, 1638, 2282,\n",
       "       1645, 1753,   22,   88,  217,  139, 1794,   51, 1735, 1626, 1827,\n",
       "       1826,  257,  145, 1515,  290,  355,  387,  362, 1530, 2288, 2268,\n",
       "       1616, 1765,  247, 1804,  232, 1549, 1541,  109,  307,  363,  210,\n",
       "       1759,  211, 1727, 1705, 1656,  115, 2280,   69, 1712, 1829, 2259,\n",
       "        341, 1684,  343, 1731, 1565, 1632, 1456,   70, 1531,  179,  242,\n",
       "        385,  220, 1469, 2265, 2315, 1459, 1745,  344,   14, 1817, 1608,\n",
       "        144, 1491, 2277, 2361,  212,  243, 2284, 1494, 1449, 2275, 1798,\n",
       "       1612, 2255,  381, 1568, 1601, 1736,  282,   27, 1551, 1830, 1560,\n",
       "        258, 1613,  225,  103,  143,  303,  146, 1786, 1620,  235,  152,\n",
       "        277, 1676,   61, 2354])"
      ]
     },
     "execution_count": 3,
     "metadata": {},
     "output_type": "execute_result"
    }
   ],
   "source": [
    "train_set"
   ]
  },
  {
   "cell_type": "code",
   "execution_count": 6,
   "metadata": {},
   "outputs": [],
   "source": [
    "# Register your folder of .json files defining the tasks\n",
    "register_json_folder('./custom_json')"
   ]
  },
  {
   "cell_type": "code",
   "execution_count": 4,
   "metadata": {},
   "outputs": [],
   "source": [
    "# Register a string as a JSON environment\n",
    "json_str = \"\"\" {\n",
    "    \"name\": \"CustomPush2\",\n",
    "    \"lvl_type\": \"marker\",\n",
    "    \"target\": \"[-0.1, -0.25 + OFFSET]\",\n",
    "    \"goal\": \"[0.7, -0.75 + OFFSET]\",\n",
    "    \"rnd\": {\n",
    "        \"marker_ball:0\": \"[uniform(-HIGH_NOISE, HIGH_NOISE), uniform(-HIGH_NOISE, HIGH_NOISE)]\",\n",
    "        \"target,medium_floor:0\": \"[uniform(-HIGH_NOISE, HIGH_NOISE), uniform(-HIGH_NOISE, HIGH_NOISE)]\",\n",
    "        \"goal,medium_floor:1\": \"[uniform(-HIGH_NOISE, HIGH_NOISE), uniform(-HIGH_NOISE, HIGH_NOISE)]\"\n",
    "    },  \n",
    "    \"env\": [\n",
    "        {   \n",
    "            \"name\": \"marker_ball\",\n",
    "            \"pos\": [0.6, 0.75],\n",
    "            \"id\": 0\n",
    "        },  \n",
    "        {   \n",
    "            \"name\": \"medium_floor\",\n",
    "            \"pos\": \"[0.1, -0.25]\",\n",
    "            \"id\": 0\n",
    "        },  \n",
    "        {   \n",
    "            \"name\": \"medium_floor\",\n",
    "            \"pos\": \"[0.7, -0.75]\",\n",
    "            \"id\": 1\n",
    "        }   \n",
    "    ]   \n",
    "}\n",
    "\"\"\"\n",
    "register_json_str(json_str)"
   ]
  },
  {
   "cell_type": "code",
   "execution_count": 12,
   "metadata": {},
   "outputs": [
    {
     "data": {
      "text/plain": [
       "array([1419,  313,  320, 1466,  352,  380, 1710, 1578, 1658, 1693,  309,\n",
       "        171, 1702,  395, 1600, 1507, 2257,  336, 1700,  397,  382, 1505,\n",
       "         89,  189,  167,   85, 1652,  125, 1462, 1591, 2363,  100,  340,\n",
       "        359, 1752, 1611, 1481,  163,  281, 1821, 2349, 1564,   49,  306,\n",
       "         28,  108, 1641,  294,   58,  196, 1623, 2271, 1618, 2273, 1730,\n",
       "         77,  245, 1599, 1802, 1675, 1649, 1539,  272, 1484, 1497, 1831,\n",
       "       1589,  295,  166, 1475, 2308,  131,   74, 2305,  338,  178, 1761,\n",
       "       1741,  388,  181, 1633,   73,  372, 2344, 1428,  201,  172, 1518,\n",
       "       2261, 1615, 2276,  215,   68, 1512,  312, 1594, 1455, 2362,  317,\n",
       "        348, 1537, 2356, 2364, 1636,  339,   17, 1574,   46, 1558,  396,\n",
       "        175, 1686, 1546, 1581,    6, 1769, 1519,  153, 2316, 2295, 2286,\n",
       "         29,  264, 2313, 1592,  130,  337, 1627,  322,  390, 1483, 1610,\n",
       "       1801, 1552,   19, 1707, 1803, 2306,  354, 1762, 2347, 2325, 2289,\n",
       "         25, 1751, 1634, 2249, 1513, 1747, 1583, 1425,   36,  292,   32,\n",
       "        286, 1545, 1495, 1673,  118, 1624, 1653,  268, 2346, 2331, 1571,\n",
       "       1725, 1606,  105,  162,  120, 1522, 1605, 1604, 1813, 1764,  373,\n",
       "       1688, 1499, 2350, 1666, 1486, 2285, 1575,  117,  193, 1543, 2253,\n",
       "        260, 1593, 1510, 2333, 1479,  216,   62, 1420, 1625,   12,  133,\n",
       "         92, 1758,  314,  248,   35, 1677, 1669, 1714, 2359, 1775, 2336,\n",
       "        259, 1697, 1429, 1685, 1485, 1721,    1,  316, 2323,  233,  383,\n",
       "       1614, 2250,  165, 2314,  202, 2328,  398, 1639, 2263, 2338,  333,\n",
       "       1526, 1619,  331, 1713, 1698, 2267,   40, 1760, 1448,   44, 1749,\n",
       "        138, 2290, 1524, 1476,  185, 1540,  358,  169, 2245, 1436, 1733,\n",
       "        237, 1422, 1488, 1534, 1718, 1742,  156,   78,  326, 1681,  384,\n",
       "        126, 1740, 1799,    4, 1679, 1437, 1628, 2281, 1443, 2360,  203,\n",
       "         59, 2345, 1553,  123,  328, 1678, 1716, 1567, 1472, 1433,  360,\n",
       "       1810,  262, 1509, 2302,   94, 1622, 1739, 2300,  308, 1516, 2365,\n",
       "        334, 1498,  104, 1470,   99, 1454,  368,   67, 1547, 2307,  265,\n",
       "       1631,  249,  321,  285, 1772, 2294,  150,   95, 1807,  206, 1588,\n",
       "       1642, 1431,  230, 1655, 1822,   80,  350, 1444,  114,   91, 1748,\n",
       "       1555,  214, 1520, 1715,  132, 1598,  310, 1709, 1585,   48, 1489,\n",
       "       1728,  154,  349, 1672, 1756, 1535, 2269,  279,  305,  129, 1490,\n",
       "       1651, 1527, 1668, 2342, 1602, 1734, 1659, 2304,   52,  147, 1646,\n",
       "       1445, 1701,  332,   65, 1692, 1461,  157, 1528,  137,  288, 1465,\n",
       "         84,  198, 2266, 1805,  327, 2348, 1766,   39, 1661,  293, 1774,\n",
       "       1640,  173, 1790, 1621,  135, 1446, 1521,  124,  113, 1687, 1511,\n",
       "       1787,  270,  289, 1477, 1650, 1595,  376,   10, 1617,  228,  158,\n",
       "        374, 2355, 1603, 2310,   23, 1586, 2287,  199,   16, 2278,   20,\n",
       "        122,   76,  112,   37,  183,  140, 2335, 1788,  287, 1800, 1654,\n",
       "       2321,   71, 2296,  261, 1532, 2353, 1820,  291, 1708, 1557,  276,\n",
       "       1724, 1517, 2251, 1711,  335,  252,  161, 1451,   60, 2283,    8,\n",
       "       2341, 2292,  149, 1502,   57, 1657,  319, 1501, 1597, 2279, 1579,\n",
       "        208, 1432,  195, 2309,   50, 1665,   86, 2260, 2301, 1493,  194,\n",
       "        351, 1525, 2264, 2322, 1680, 1596,  345,    5, 1529,  300, 2303,\n",
       "        164, 2299, 2247, 1533, 1556, 1441,   97, 1797, 2256, 1500, 2340,\n",
       "         81, 1782, 1785, 2327, 1447,  190,  256,   24, 1780, 1694,  365,\n",
       "       1818, 2319, 1538, 1825,  234, 1523,  106,  141, 1580,  357, 1548,\n",
       "       1670,  142, 1427,  304, 2254, 1570, 2320,   87, 1777,  391,   47,\n",
       "          0, 2343,  218,  297,  284, 1809,  170,  174, 1452, 1587,  222,\n",
       "       1768,  266,   75,   30, 1750, 1720, 2326, 1508, 1757, 2246, 1630,\n",
       "       1828,  311,  280,  377,  229,    9,  226, 2332, 1421,  392, 1792,\n",
       "       1662, 1637, 1607,  302, 1833, 1504, 1812,  241, 1460,  121,   93,\n",
       "       1496, 1808,  379,  244, 1572, 2274, 1629,  263, 1695, 1542, 2330,\n",
       "        369, 1778,  231,  394,  191,   63, 1816, 1738,   56,  186,   72,\n",
       "       2272, 1463,    7,   79,   18,  356, 1781, 1561, 1835,  177, 1440,\n",
       "       1783, 1824, 1506,  367,  102, 1635, 1482, 1834, 1667, 2297,  207,\n",
       "          3, 1464,   66, 1609,  119,  267, 1584,  239,   82, 1438, 1722,\n",
       "         42, 1703,  361,  315, 1478, 2329,   11,   98,  128,  246, 1503,\n",
       "        168, 1773, 1566,  182,  197, 1763, 2317,   26, 1468, 1706, 1726,\n",
       "       2337, 1776,   96,  371, 1691, 1671, 1643,  389, 1573, 1590,  200,\n",
       "       1754, 1434,  204,   64, 1660, 1458,  353, 1755,  116,  393,  278,\n",
       "        364,  269,  255, 1704,  342, 1647, 1832, 1806, 1746, 1559,  127,\n",
       "       2293, 1696,  219,  151, 1784, 1582,  323, 2258, 1682, 1442,   13,\n",
       "       2318, 1689,   54, 1430, 1719, 2334,  271,  366, 1457, 1569, 1723,\n",
       "        136,  134,  325,  107, 1453, 1536, 2270,  155, 1674, 2358,    2,\n",
       "        399,  176, 1732,  236,  253, 1554,  224, 1743,  346, 1473,  240,\n",
       "       1424, 2291, 2357,  299, 1544,  184, 2324,  188, 1492, 1426,  101,\n",
       "       1563, 1664,  301,  318,  386,   90,  296,  283,  378, 1439, 2351,\n",
       "       2298,   33,  205,  192, 1836, 1577,  347,  227,  110,  209,   31,\n",
       "       1644,  329, 1480, 1729,   15, 1791,  250, 1815,  159, 1467,  187,\n",
       "        111, 1683,  254,  251,  148,  273,   55, 1737,  324,   45,   21,\n",
       "       1450,  213, 1435,  223,  160,   41,  375,   38, 1796, 1663,  274,\n",
       "       2352,   34, 2248, 1770, 1779, 1471,   83, 1550, 2252,  180, 1819,\n",
       "         53, 1744,  370, 2339,  298, 1793, 2311, 1576, 1717, 1811, 1814,\n",
       "        330, 1423,  275, 1514, 1690, 1771, 1823, 1795, 1767, 2262, 1487,\n",
       "       1648, 1474, 1699,  238,  221,   43, 2312, 1789, 1562, 1638, 2282,\n",
       "       1645, 1753,   22,   88,  217,  139, 1794,   51, 1735, 1626, 1827,\n",
       "       1826,  257,  145, 1515,  290,  355,  387,  362, 1530, 2288, 2268,\n",
       "       1616, 1765,  247, 1804,  232, 1549, 1541,  109,  307,  363,  210,\n",
       "       1759,  211, 1727, 1705, 1656,  115, 2280,   69, 1712, 1829, 2259,\n",
       "        341, 1684,  343, 1731, 1565, 1632, 1456,   70, 1531,  179,  242,\n",
       "        385,  220, 1469, 2265, 2315, 1459, 1745,  344,   14, 1817, 1608,\n",
       "        144, 1491, 2277, 2361,  212,  243, 2284, 1494, 1449, 2275, 1798,\n",
       "       1612, 2255,  381, 1568, 1601, 1736,  282,   27, 1551, 1830, 1560,\n",
       "        258, 1613,  225,  103,  143,  303,  146, 1786, 1620,  235,  152,\n",
       "        277, 1676,   61, 2354])"
      ]
     },
     "execution_count": 12,
     "metadata": {},
     "output_type": "execute_result"
    }
   ],
   "source": [
    "train_set"
   ]
  },
  {
   "cell_type": "code",
   "execution_count": 116,
   "metadata": {},
   "outputs": [],
   "source": [
    "import random"
   ]
  },
  {
   "cell_type": "code",
   "execution_count": 140,
   "metadata": {},
   "outputs": [],
   "source": [
    "def generate_actions(solve):\n",
    "    tools_list = [0,2,10,15,21,25,35,150,600]\n",
    "    solver_x_y = [[0.7,0.5],[-0.35,-0.5]]\n",
    "    solver_tools = [0,10,15,21,600]\n",
    "    actions = []\n",
    "    for i in range(9):\n",
    "        tool = random.randint(0,len(tools_list))\n",
    "        done = False\n",
    "        while not done:\n",
    "            x = random.uniform(-1,1)\n",
    "            y = random.uniform(-1,1)\n",
    "            if not (solve and (0 > x > -0.65 and -0.2 > y > -0.8) and (0.9 > x > 0 and 0.8 > y > 0)):\n",
    "                done = True\n",
    "        actions.append([tool,x,y])\n",
    "    if solve:\n",
    "        actions[0] = [solver_tools[random.randint(0,len(solver_tools)-1)],solver_x_y[0][0],solver_x_y[0][1]]\n",
    "        actions[-1] = [solver_tools[random.randint(0,len(solver_tools)-1)],solver_x_y[1][0],solver_x_y[1][1]]\n",
    "    return actions"
   ]
  },
  {
   "cell_type": "code",
   "execution_count": 141,
   "metadata": {},
   "outputs": [],
   "source": [
    "actions = generate_actions(True)"
   ]
  },
  {
   "cell_type": "code",
   "execution_count": 39,
   "metadata": {},
   "outputs": [],
   "source": [
    "# actions = [[0, 0.7,0.5],[3,-0.3,0.5],[5,0.3,-0.5],[3,0.9,0.8],[12,-0.8,-0.6],[17,-0.3,0.6],[19,-0.3,0.7],[3,0.3,-0.5],[0,-0.3,-0.5]]"
   ]
  },
  {
   "cell_type": "code",
   "execution_count": 6,
   "metadata": {},
   "outputs": [],
   "source": [
    "env1 = gym.make('CreateLevelCustomPush-v0')"
   ]
  },
  {
   "cell_type": "code",
   "execution_count": 7,
   "metadata": {},
   "outputs": [],
   "source": [
    "observation = env1.reset()"
   ]
  },
  {
   "cell_type": "code",
   "execution_count": 17,
   "metadata": {},
   "outputs": [],
   "source": [
    "import cv2"
   ]
  },
  {
   "cell_type": "code",
   "execution_count": 69,
   "metadata": {},
   "outputs": [],
   "source": [
    "env =gym.make('CreateLevelTwoCustomPush4-v0')"
   ]
  },
  {
   "cell_type": "code",
   "execution_count": 80,
   "metadata": {},
   "outputs": [],
   "source": [
    "actions = [[15,0.6,0.3],[0,-0.3,-0.5]]"
   ]
  },
  {
   "cell_type": "code",
   "execution_count": 81,
   "metadata": {},
   "outputs": [
    {
     "name": "stdout",
     "output_type": "stream",
     "text": [
      "(84, 84, 3)\n",
      "0.01\n",
      "0.01\n",
      "0.0\n",
      "0.0\n",
      "0.0\n",
      "0.0\n",
      "0.0\n",
      "0.0\n",
      "0.0\n",
      "0.0\n",
      "0.0\n",
      "0.0\n",
      "9.8\n",
      "0.0\n",
      "0.0\n"
     ]
    },
    {
     "data": {
      "text/html": [
       "<video width=\"640\" height=\"480\" controls autoplay loop>\n",
       "  <source type=\"video/mp4\" src=\"data:video/mp4;base64,AAAAHGZ0eXBNNFYgAAACAGlzb21pc28yYXZjMQAAAAhmcmVlAAAtiG1kYXQAAAKuBgX//6rcRem9\n",
       "5tlIt5Ys2CDZI+7veDI2NCAtIGNvcmUgMTU1IHIyOTE3IDBhODRkOTggLSBILjI2NC9NUEVHLTQg\n",
       "QVZDIGNvZGVjIC0gQ29weWxlZnQgMjAwMy0yMDE4IC0gaHR0cDovL3d3dy52aWRlb2xhbi5vcmcv\n",
       "eDI2NC5odG1sIC0gb3B0aW9uczogY2FiYWM9MSByZWY9MyBkZWJsb2NrPTE6MDowIGFuYWx5c2U9\n",
       "MHgzOjB4MTEzIG1lPWhleCBzdWJtZT03IHBzeT0xIHBzeV9yZD0xLjAwOjAuMDAgbWl4ZWRfcmVm\n",
       "PTEgbWVfcmFuZ2U9MTYgY2hyb21hX21lPTEgdHJlbGxpcz0xIDh4OGRjdD0xIGNxbT0wIGRlYWR6\n",
       "b25lPTIxLDExIGZhc3RfcHNraXA9MSBjaHJvbWFfcXBfb2Zmc2V0PS0yIHRocmVhZHM9MTUgbG9v\n",
       "a2FoZWFkX3RocmVhZHM9MiBzbGljZWRfdGhyZWFkcz0wIG5yPTAgZGVjaW1hdGU9MSBpbnRlcmxh\n",
       "Y2VkPTAgYmx1cmF5X2NvbXBhdD0wIGNvbnN0cmFpbmVkX2ludHJhPTAgYmZyYW1lcz0zIGJfcHly\n",
       "YW1pZD0yIGJfYWRhcHQ9MSBiX2JpYXM9MCBkaXJlY3Q9MSB3ZWlnaHRiPTEgb3Blbl9nb3A9MCB3\n",
       "ZWlnaHRwPTIga2V5aW50PTI1MCBrZXlpbnRfbWluPTUgc2NlbmVjdXQ9NDAgaW50cmFfcmVmcmVz\n",
       "aD0wIHJjX2xvb2thaGVhZD00MCByYz1jcmYgbWJ0cmVlPTEgY3JmPTIzLjAgcWNvbXA9MC42MCBx\n",
       "cG1pbj0wIHFwbWF4PTY5IHFwc3RlcD00IGlwX3JhdGlvPTEuNDAgYXE9MToxLjAwAIAAABIwZYiE\n",
       "ABL//vet34FNwEDta7pXOLTLq5Q0PVH2lKZ4tkgAAAMAAAMAAA/wzb6fURXXl6YAAAMAfgASU7X8\n",
       "RnMbgAT8IFrSGOqeQlKegdk2vtti3dJ9+5iAksmDWJoV0nvd+Hb67M4qW7jzd4PqdFT1gJPh7zsp\n",
       "KUfELzdsepvO3tCjPTf/ziiZaqTyJPQ9I5PvSBgc0JjRwiR8EYKIbxYTiFeaSEYX63xaEYQQLE7l\n",
       "aStPH1bqk4fAgYX8wkO4P/AaFPI7QCn488+wpLmHGSy9gOgKJ3m3IzVlIPCV1hQ80U+dXnvL0bcW\n",
       "zwrR8+c80OJsLjbYAg3R1iT76vlgfYdGe2sDXlhWWLVeNfKf1l2230dGozvtm/G21buTMbMmdEeG\n",
       "+umABYnsFGUnIWEE1GLbCb8QRXzBTfRicjnAm1uRqowZ6IxsoMb+4hhK5pp1YAOD65jT/PXF1Apu\n",
       "BFJylurS1viYIzKWv84ZDlKaQVX9YH8fo8rsF6QHk/W8tfKmzrI4x3uCRhNHyq0VNng9PxuEGc1h\n",
       "Lpplb5iML2oojq2LEyUS3LwOvivHNct/ctUGzgUFy3+4Q5LylEI/hKfAoJMpActhQSVoeKZOGhZO\n",
       "BoMSn+gsoDqCtCiL1+qny0cH9Ai4vdU1OmRNVmrsRx8BoZRz4IVYSlgB2sbKrCp7oL/XkOgZnIOE\n",
       "1tSt1NbD0NLjR+yqAow0fYs3lX73/1p6ZYaMbHyrtaCxh8vOSUowh1KcxNpeY00plnVsZuFjgqSM\n",
       "nsMnX2+SSPRbX3yDC5pSbFaY0jl6FsWtuH2EsL5raxz3F8BatiZNTqcEHzd1sRueVWEJOanAJRPe\n",
       "w+y6womPgeaQ2C+2n02aZRgcL2i7VjtVpJTuJb0WzYYuutdfiSGpgbC8TSF99EWCwBmO4FBnzD4V\n",
       "XvpRF0sVSwFCBbKtwu2BwvtnAdNb6zxvAPF34uIlW0BkNTAr2WQmsr04MCYKToqp7cZ/Tog+4Q0l\n",
       "nM8TdgCSxhNVwsa/n+JkXMV+JYWaw9HUkvdFWGgFyQaZNvCy/SsbG+6tl1nG6VTF+6POFy8BL6La\n",
       "t1z9ZtvCY4gsLiRnnDStQn7U7Ula5FF6jGRtBzUZfP/xnKyDhiZvwA8Rv3NbPZiqDdKVSG87O3xL\n",
       "QYaFvbB5AlaaAt7UYx2j4j4Zfb8UvsLBtbMwyZbTY/vT/bfE4IJCqWANJtoJtRtNPOo8wKmtqgo6\n",
       "BWdnJUJurfwbDBIgYHOBs7QCXQSTIO7G/qiq/VpuCZdSsK/r9unLDlT2O4blyjBRfkG6VmO0HR0q\n",
       "ms27sQimBtA9TyUNcIQn2XKYOk/AZq5DvS8vzSjWTo6QkouejXO0JDht2XuIVeg1tpgor7B4yCz8\n",
       "4C/IUyTW4RKTlzZGI5BZ/V0axY/ZJlDbY/uR39UhSEWQPBLmQN1UHnveJifh+f8EuZc6T7IT2rDB\n",
       "eC9UomDoK8r32Mf//hx7vFjJYgvihAHsAAADAAK+IE48EhNbkfisZZnmtebkG+5EDeoYRvqW6x/b\n",
       "I14YOX2PXPnvo+2CC4BT9gDT+Ayqpy3WQu9sayF3MTDpmQAydXK7D4jUyMJ1yGFyZtLvhJHcJFWh\n",
       "HXxlvgd4PM6A3HtxOeEvMgbBIbMc42om19+uTyC7QCPejDQAHMR5mX0hsRgRTmQqOAvPQtYmWdNA\n",
       "ShAOyb9+j+vMWqjGffJy6+5IhjVT3Eck3DWF1xleNx8V4cpXjJ005Imirz+V/WQNxtjF+DgDYCQy\n",
       "zPaUe/4C7m80mJcwL1y54dPiBpTChsk14AqW1kT8lNhBwMgoRlUvmSko8d64kBK45IYEn6iIyGMd\n",
       "dUHv+AV0aK//OCerG4OkKBH4J3zga80oMHMQWam+wayw9hckysmmuT4fuQghq2LQSWmqa52npEGE\n",
       "TgC3Z/yWGXAksK/2FopkWNjCkcu4jdfCboxcRz1H/eqXWEHZEi7naIfLAw2UN/tMxhR3j2sH15iY\n",
       "39rurM3OGiDG3PDXGfVKw3JBlRVX/OrZTsPQlTWnsuW35S4jVW8AOy/cZTkmGOyzXjrLI7pCBfpE\n",
       "2vNmUvqMfJh5NWdq7cOQwwe94bxxZjYnmXqfvizPZenNF3nbb4HdK4yVp9vm8rqpIVVkKexnM5mT\n",
       "YzufdDN7USISVmwL9Krh/02lRZayu9igomTaHL1mC+13bIv/imd4A7tx43wL4boaRgOR473tOq1K\n",
       "lyfvhXWJX0ZPG33uuHie3NKaLRJ4tj/LXvvAPbzrMVBjFr2KfjWN5mkZe/vr9hRIE5gj9aqu15WP\n",
       "ut/w+5ApcbKziIFHqI6ULqCXaUY7s1FfIk6Z4PhBZh6VMcgmt+9EIIgPgYOS8xIbegrXrIWijFD2\n",
       "mjbiDu+EaPhCvtIpjgqrVsYOI1H3enTNOQEqiB8lBNx/IfEdOARBaaPOScxN8CPP41FZ1I14TXZc\n",
       "JJy18QZW6LWv/Y//Pcd1OA0+WPGitWMgnmZepr08HkfLMDVUCPRsmjMQ+9SuXmTlmlnbcdXNvAl/\n",
       "3uJwgKE2c3L+ArkpsPMRdmJzAgY3Iw/BjeZwv83BeJBONH7sw1m998bcxAQUmerLfby8jEUYNA/M\n",
       "4O+x1jZXQKSgA4vBqnu+4DJXDieiOobuvU2B7Zx1CJmYBD6e96Vi57VCaIIZbef7eSDDcGzFRFO0\n",
       "8VidlzCJYy/lGyzHNyj/5T5X+qtJldF7RVBQoiO8Pe9vb8tMkOzP+wG7r4xxDKIx2DZLSoDM6yAl\n",
       "VEfhCEXileYiP+Q4Fe0JQ7yuoizW5/2A+P/I9PeuDxl2zk4IdYvgvqwdZNoOFRP1TBklXq4lBE2m\n",
       "MxSXuHCR+6xYfTYI2Fi7LS8hVeF0/yb3EX0ZgWIFlG6cbBY67qIkNdotNc88VLk8I6/vfso5qg/P\n",
       "sIUOlJoU28LLMvCsAO+ifBAAw41W3vdPrsLr4I6FIBTroXXz71mOvpoUKlq2Iv2MBoze7+IazmKO\n",
       "NJPyalPBM4R6IWN8Ms5dzKFyl/VR1LlPVmyHV/tm7JzHBpU4v72VvJzYgzM5THeulbF+p+3Wu+gy\n",
       "mqtgH9aJoly/ej8oFeCw+2CPyJw33y/OrUQPD+tES+7G/xFrS/v0z7B39weWJX6j3nXc40PEZkqN\n",
       "OSzWLfWfXi6CwxOFjwlQnPA6LB4/FWHKvcy6xe0l5lyp7vG5ZOwVzaYwpGsqvsACOPTtqxWuimEN\n",
       "1cJ1ovqDqv/T3kidoyQ2DumE3XkZI97npt6O2oid1fMU/SsYvZ4Rdo3v8Gh/BAyGMQN4GjTAOPUx\n",
       "Ic3W5azqgVg36121+FlYtG10U2goYLXCsrdmxvf6mCidys9xZyDTfI7MqtXZfQY6mlVzCRMXTzKi\n",
       "nP92HR6byNrh3EswBjB8nlE98IUC7gzuZJ1xgIIchhFTpLQN+z542bAUhIvaa15bIPjD6oOp9gBZ\n",
       "3+yWBNj+USQMdQtDEOYq/i1qYKMRygAP9+tIxEAaLT0sBh/eWffIjV5QNWJdDxbP522P6QHm2oKe\n",
       "Btj2RIDDEure1whJJ7nmfw6OYsg9FT0shuoyx9ZXY2eWT3VzkYTX49J02XMJdVmxutAs7eLzg/EY\n",
       "R1G52ew/uZ0y1uoTMdpPh/23UEFFotTtv6fUcUmaYKiBJmDOIlpE+vODlWaWh2GPkcBt4wvyquoA\n",
       "EXluYcVKuckxNE4YmU4gCbf22jabUeMmSPrTxNco0nJwLGNrlKivqwnMgEEgR6u4m5P4DYUW+nMF\n",
       "E/Nce+VuHnJiadiYUPse2iJRRAX7LEgc8H1eiq0uAQcYO6ApMFBO3cZ8TbVDbYNTZPu6rcPTDscW\n",
       "5GzNmAQQMAFHT1fPRAvM1TLozjt24NWm6VdOKT3FH/Xgx2GN4KEA1rUMKbsivkr63FmSJErBtDOU\n",
       "MEC8B6UNydU7dkOUf+Ot1qMK8jIlxgCmCWIZLDNanG3P/Ndayhc3c/TKGoL4gScKczyrdG9zqqGk\n",
       "gW+0F/MmNrqqkrrQ5k46HuZT1eM8A92u9Q0SIgrtXQv9W4R9q5wiXMyjc03LWZ7Lby7ZIRz/tS+M\n",
       "6uHQBBtbuP0+gKix0ZwGb4ptXyvmO3T0Fj6rGd3CjPsDTaPDBInjHfgLjkfjKYAgDyuS3laMSmMz\n",
       "OQhsBw4Df8eAjHhkdvoCVreIhlmclbljfv84SD6c48GrVX02Sr2MxKZpAnfh84PTZqW6Bfvwl4PK\n",
       "OPgpgtIuKuCoWEPU51EBD8raTcF1Z0OCaLQOrxqLri9Rdvj9XMn1EY3K7vXO++F0n0iq207qvZr/\n",
       "bkmgjqeRqfed6xKwHueJCfIv/WOHeP/mkicvi3fL8exs6ZW4gDhHYwpIQ3dtlcJkGjUMeQJP6Ufd\n",
       "Mjv47Y5csHUBPaVVT9hPN1yoMq7q1R7NWrTJOiXQ93QX6pG+Ews5xWvoI76VnBvQEzkrKnBEeZNk\n",
       "JDilo+zbOM95Qoc7+dBV1ha9blcO/ofi1dOCrcohQ3tpC9cnBLTRrksgRFnQAlIrUeGqqBru3hZ6\n",
       "XQWDOCdzXQTJKANCgsPOGtARVMDfZqqksf2o6S8E1SZVzvB8CSP8aBTLYQErnngBV/niGAzCCV6Z\n",
       "cxnNNRct+rhTVq3Skmf0hQhtwzx9zYoghhkyeqHrL6dwzyF5DlNMbTG4MQ3OiX+7C2zHK+oVcmYw\n",
       "C66r7Pu7uT3CF2hs4FGuSsx2z6bfd0C0rZ27/eoHKJZKeSfDxKDgzXQ7Bkb++lTg3TH5E8XLaVN6\n",
       "N+jI048FwWK4V5GxcABBNLkHJoYUNKZUAk8dPfPvz2c43hUrw0jVLS1k4U0l6G+yUqRvh0+5eYa7\n",
       "0QTs0fnmrF20RpihHq3B+NCmlkr6qGnCOeJIkMo4pAtLj5amcsHoK9+rcSEaSnrwbN5+KZBL31Y7\n",
       "3LOmVs2JfU1SjEgNkaLObc3vOQZryNfrImkqOsSSVg+rVn7MUKE+0///aIoapjk29wfIWcHhAu7u\n",
       "zEqia2pcc/OhPJVD+2hoNobjxoSWkHt41g4z3NyE38inIlqRN1JT5dSXcgd682R0rIlDfib+WGB7\n",
       "pUiUzg3XF/zw+uL8Ny/idmaU/cNnXx+qaEUr29OQTiW5N9r5gTcEzYSoB2wS3jEFFPC+IwcPOkzV\n",
       "HaUCffTQNW4sel1n91Cg5f2IusuuaqSlJbPziQ8BuqAtcTchNLbRUDcqdS2mImT4IWFAkEdsyiNP\n",
       "dCbKa7m9+8aFCrdzt0j0IbMVUItE1Ux1WI8j9QvnUbz7gWEAEEv/LDb9kFRMiijjNjikyU1NbS2f\n",
       "f0qkW6Z+Pls6JZzFWggB7NxrlOFHfdKLvKIYGnA2kCD8fVin2Bv1CdhUYmd9u/3rwHmlLatNG60K\n",
       "R6c0qU1G9bSb4RCqmIzeeYXQLdeTdWibffOT2LxnlP5DKIYGfZwogRvj5pR+pydY2M+burLtlk/Q\n",
       "jwGPTWdZ0vInGtuKtQNNzRjcLWgV3e7CRUnvjYsPpsFrdsByCm0bbehhXCO3SvXRxT/Huasz1iLG\n",
       "mo2ezownCYuT+E1y9R4O8LyL4qjZNhMCUUxt2xokV1dqukEawH6JwMIA0wQZ05UmJ2Ij3Nc3ElVw\n",
       "7WF7LJ0xlWuozp/VD2hGNiYVWRNgCfPVX4VD+rbHQOyFxp02r1j0/PUzmsXT3pvYQy0iIL7yEu5p\n",
       "fcLdesTykjPbDYK2TbN8h3fcbnMqD8bF33mB4Fsa61213naVY8F5GAwhU6dn8WTN1roQlIc6P2FU\n",
       "GL0KcP/zpjch2OAfHaWqxMDaRSiBjLa91Yq3XM3txZcewTqAhlzYdKVWV5ckw6v04diyyO6QZ7Xe\n",
       "9mr81FwbzRHI5WH7jGdAkhQNCfSwoO/l7PQFzeaTkjjW/v/IEJZlAyaHEzxs/CVDs86PRHPDtKx3\n",
       "25r49L5c7+Bhs416BBO+6NjJ04eTFtn/aFQ66MYgK9HrEDikWZeZZzLn+9bDzwD9pAylu/MqB6dy\n",
       "x8SQ0rKk5ax6wXVWBQtFE+jfhUxgk5tNMj8HRSNv65y3iQVVjtrfUZJKeA9OIek8TPZzXcQH7i54\n",
       "3sDfpFAvJlFfaRe8K4c/Cu9V3rwSwkV9PhSZO3JLJR9yLnS3qprfSDjxfEm8T6JoSEtdxkYvBegC\n",
       "1bgNyNkisWbzsjabxJR+Xmyq1sDA2jHCvlIezwNl5CMyOC+B8Xd66+lpjyCGBMhxeUAQJr7x0oIO\n",
       "hNmtpRlVwoIVC8VQaznEMj4KAEyIPKN78pyL6/taAAADAAFRAAAGW0GaImxBL/61KoAAhP2NPoNg\n",
       "T7GBokqp8JuPnNzid7oLvpdb4XIFuW6zfzoQYAX/d7K2bSzWi1OKec/xh2w2lsCf7lvy0fs5DxwM\n",
       "VE3crtFEO1iNDJSBSPY5RjG9idbkMBuZd2PSCmLfwiOYpwMVwwMi8EiMogYACCXNHK5J5BnCZYuz\n",
       "7nDYjCVqnzeDeWi8+9ES/MKMyYg5KOYGPEcnP2y0FuS2C/KeHdcUIS4ZM/nLN1bzhhio9M0gdJQy\n",
       "w/LVZs6HO6gYkP8Jo3n9rNUDyo0CQDEv8313XiJQnHcupYSFxQk0nbTxHOsqNRSCmFiU7lB6dRqK\n",
       "IkIiO1GamMOwT/5X/Sy/9bWP+9sl6Jcb8u8OU4H0VdVQOVbLWndG8RqwWS89RxIu5Eq+e/MxEVlg\n",
       "NIpLZcmrIXHfpQ2RInGVXfIgrlmBeKBdVcjBlnbcKdauD/CDwzWvQ8fYsXNhkmF5suVJxBghvpO1\n",
       "0kVqYnw1JAKjix91BfA8Vz3j9BHy7YtuzI4zqJ6fAhloPZHbSbZ1m433e6SttBuWfP2DqIMqy8Dr\n",
       "EigJrATWQlXmeMAIJzsViVDW1VECY5MNLjCoQqZ/RttF3DBseX4Z952iIyyG+nbzLuW4N0aUEJzQ\n",
       "SNC4ue192h3QyqINj5QYF85mFVR7Xfu5ogtXT1yxkEWTu4Y+e15mJ4pYYi4wnVSTHJc5BdaRmnK/\n",
       "dkwgN9W5FZR2MPOsTXc61XhWxI4lQ0qMdjLefw+3delO/RVIPL99IwSEXYnXgTjB4IMP4rJs/phN\n",
       "zPEsyTrbnhr6CLb+53cx4X0mWB1ToAvG/QdlyMden/DVLODxqFVAcgafQtPi/aDVBj7hAJJTWtQO\n",
       "zj/Sfhp1jtuqwDOaVrz8hahC2TP+X2nKTbU6vKW1AUP1xfNN0DZpS/KvxddYMgn1v4ozXLfysGAD\n",
       "dYp/g353EY3V4ve95hpc7O17zgefigiYcYgIspuRlGEkr0g6RuFLJa2x9SkGcQVkGul1+t3tF3SD\n",
       "VnzI5xUcEKebz50rbHLWO7dKUrhJpB8LkuG3jus3vPUDlDL5mnCdf+2gfmb6NkJQV+DIyy4IrWnc\n",
       "zEcn/INzIpSoBRxk6dORADdwjVhCEyRh1ItdG4p+TyORZlcU81plX54LfsKK38IC5x/1M5Zb/I+u\n",
       "SZ2oulDKCj38I12u5F03+ZLlBhza/ed2xVq949sDT0GaaQql9H921xWreHfMTRb1lYoGqQWeaSpU\n",
       "iW787dc139+ZK9p2/H4tijCkoRSogypkS1+NR9WrI0BTBuLXTHwSMHvK4H78g9J+/6mFmOaOaUl8\n",
       "DIFhDVuBYH1GYQN4nBA+qlaMi63hREogitDZc3eq3CGGdM+j4EC2y2gGiyPzOSpw3EVxHLSOzIjE\n",
       "ypxg08gEmlHX2S8wzS+WEqfHLkDUQ4Mho3x4Ng6EhQ32rWneNMN0GXJWenC+m+fHVn841Nb7KIWt\n",
       "4SEpdYllJtNTtxYfHoAojME1oPSnxsaG1z/mdwOqBQBVN5DE6odKlOkj9WNdQ5acKasG8nCpw/qt\n",
       "vfTd4bHDxTG5YWxxJ0dXJh3sSeAllzhFrEXNJ6v9jVg91CiJh75Eic28KX0t+2+pIL2SRozSjpw1\n",
       "qiq2bUZNJ6p8CFtw6Pk5jpgKQnyjHgvzON/tHUosRiB/l18/fQ+aE/R1yj78J55dZ+/Ir8pxfDLM\n",
       "dsDcEFakd06YvYyibJk8vRQycpQEEBXbEE0qwkF/O4Ud2lkOhv6n3Ju4RGDRj54AvexmBDjXUxEk\n",
       "xuU3pW24A65t7zwPi47sUHBAol/iPnBTe+VOsR2YfrpY6NGLCxiWrITsgy+3pXk4FToe/zEFBmpr\n",
       "vHosi8CtzHdB540drAoF/jCpkjLgLndhrKMVzuuJK/SAgJ0MMDbdlO1dlY9wE5A/BJAr4oEagiyb\n",
       "b3h3P9rnFMW5dcYDFl7mfC13bDdqvpu9zHEZz9TSC41iXzGoRzDM8UNAFV574v/iwQRkDQ9DgSng\n",
       "5Up+8VCF8iQUVuSuVeBf7m421lT2+ktLWCVAOM/7xKYmhIECQOPIzrV3pds1g8Y8oQ8sqEHvlhII\n",
       "oNX45L3phmPOVeHKFZhnTycfb8rzuAlkYv7JabxtVbViHPZF2RJDKhF/uuho3DoAISsU6QIDWKtI\n",
       "olTrR+K6tntEz84WaFwAAAA5AZ5BeQ//AAF0Jz7EKE2/XEOBNWFsftP/6afzs6p1iUcT+dF/Mk6+\n",
       "FnYIAfVQsGMD2DvQZf81ADAhAAABQ0GaRDwhkymEEv/+tSqAABEfsafQbAn2MDRJVSXQz+1wKSzg\n",
       "/xyjhgA7TXXxA2VQLUZqy5ouIhc5/P/StteJYHrJiT6pDtYhP7YyuGICcALdk24oWJbvTAduGFjI\n",
       "VpaV4zy7LxZ/YMGGeI+Sg7bv+I8PBoxH+zn+2dcq1KpjqdvMki4boZfvxRR1CHB+StroQ1llQPcP\n",
       "pNb0BZyX4ftxzQllyyt2/WO0HV1LVdgdVgAQIUER76V9n2kvVv85p99Z6/2AhcPmTgn9uGjiYWoB\n",
       "Cq0llTBzLn7fQBWHEQ1XBf946wUMBxUi6nfET1LZlTckyH4Y89eGrQJtbnsLXsk3w10sjx0PYnta\n",
       "og681hD4KO0DOg4kd+7YflMiSQ93ZwlFN+ivzMAp68OevraNJ7BEUhY/cbyN71zhaT93kGCySkZN\n",
       "IAfMAAAAjQGeY2pD/wAAL7mcu8TxoBXYrxVFgwIugBQgBKpS0ujr6j7jAMnpkxtwN7LGzNV2n7z0\n",
       "RQoxiGCEddB7LLIK2jQXl9KVqndVHT+0tkRgJtv5ZLAlqvQ8eiUDZd6i+rqDpoMeOnyCcSP9mMI3\n",
       "PCYeCs174u0foToA7QudQwxJzIlEfQr+elGZSKFhVwBgQQAAAWFBmmZJ4Q8mUwU8Ef/+tSqAAABE\n",
       "fs3MvZsPET5+CmU6WmSDrQQY7L9f6ccNAJdsf3k3k/k7BgsjSTy+imtkR8odA5ouEIBOM7CX5tLJ\n",
       "kcDokuglQPSXeDTVUQnVpwmb43KQ5403u5K5V8mVc3urlb/fWH8h5GFf+t033gxsCV7aObU3YbS5\n",
       "eF1ACQSGytO85adRP/e13Lx+A9RgfXq9YP5t10hDc2hzd3WqU63Zi/pxfdZ8yyuv4RRd8tRnnlfi\n",
       "bG58x6WF/66Zf8MzAzY99cq5acOOLe1okrfMKl25Bao6HgJ6Sho990L16EeyyMMVmjtfOH1OW3z/\n",
       "U3LsM5ilug5WXo271bFuESjj/2vZQm4pcYDpVnlBvCINVNc61D8D5w29MXkFFCBFSjU4cdyoqhKo\n",
       "kVkNyqDpYwqQ9B4qbEgPh2IacLUNXa2Y0+iUqZIMFWuJ7kaXqX5J6wcvggZJm5IvQQAAAFABnoVq\n",
       "Q/8AAAMAvuZy7xPGgFdsnnnGLpUOp6Ax0RhN/60KC8J299AAuQfu1i7+nN1OvIE35iMDyDwxcjgh\n",
       "jHiFIpE//Cg1irHGHqGF51QF3QAAAWhBmodJ4Q8mUwII//61KoAAAAMDKUk8ebm3vQjK/ylOFoAE\n",
       "QfNPE/7SZT+iPVLCfcCIkRnR0fMcHvEI/uTvPdBPVvXJgaeQbH9N8AfGjiPsxMjzGBUGyAV+D6nH\n",
       "ZtW81yw2sYoINuoCniK4q7evoh4a4JTZLOG5K4mEwLAvN3ukvL17lobFS8cNay/XS+/uHwRSMpws\n",
       "3/BbLptSgbb06S/tb43U0rOjZ09ssZVQQsCLCR+jy0ASdkjaW9OqhPFq9w/mPcA+ZFqMJtk2U++o\n",
       "Fzh9MMxJLZfJCOKEWS21eCurY7XfLu+kyCecxVCOr+P0JSx9wRKUXnBTFFagCiW07MQsUP1hmKUi\n",
       "hGInKNtaiov6ITx9pq82RMAH0V7UBMrgenz5Im7z99cgq3suSC2pnmGuA4Mp9vhXuL4HKhTsiUTd\n",
       "dxOsVuuaLBEhj9GphiAWdM9kEESBJQMAVzveVjDnJAYBvfV5CmtKAbUAAAGBQZqoSeEPJlMCCP/+\n",
       "tSqAAAADATH7NzL2bFAG4KHf9KAImvJvJ/J2DBZHqe3QYVLn7/j/w92d2PoCiUo9gOmYXISJe7J1\n",
       "p0Cz7+UtdzM8nrqM9r1IRbuNTSOJPkDZf1SuszIcRSojOM7j9/ldQzXf363dnMZK4xQ1i/D3wark\n",
       "yIKcDObOTvj0dEcbfyQY3Ygm/Wr7sr5s7GhIaBkV0VW0dbNNbK7dp63ov0w2Rf6/gujd4rtU/dxp\n",
       "H90zR1m/0NcwwrSoU9yQNX+Hx8YdP+M1sCIk86juKvKv6guIkK+CA9/yBwmiCywPN4d9JwUe6Yfk\n",
       "ATmf9KyWhb1sd7mppP7eAHKWptvoPABkFS/teYjb+3NB4EPdvGctFnzCZfV5gTUm3FiorS6PG8wy\n",
       "Xp+qwP5cOJ7Pp3xurduYMDveDzYg6heuFH6BLydDDGY6UCfrNvgAtCxs76/qn1SwEe6enAXdr7gv\n",
       "TuF/GFbVSPU9L5KFSjmAFdtq7ohjaBCjAfLEjDgOOAAAAW1BmslJ4Q8mUwII//61KoAAAAMAcn4+\n",
       "ZK8MNRpOlpgiVOCy4REheHkzjdQI83Hs/WSYl07iXE6epDNiwdRtBc09AKz2A9I/LWOxwfiCXLTn\n",
       "JIKVfMlbVkuabiHxyYThyRi/6t5oVrq2oJK0UDuoZey3hz1rSEfCj8j3PY1VTnIhAmNHXRW47lZ7\n",
       "VfXADgtQbpO9hT2V1d9kRU2tmQV7XY3/LCrqK+FmXEr/c+Dqt56Jn3ozBXO/NYO2RYEBBlGh71Zi\n",
       "5d0VecBcFGGhMhObW4Y2bgfz2NDNMYQg29uDY+kfJkBJbFqxcgQdrvu3U2s76axTW3/ElS3NtYLF\n",
       "uX1z5dvQe49OY6mcsgWLLKv5r0yYtuLQIEL/n+eP61EwpAHFxU0EecFquNB0tcdBH25Agq5/uFlI\n",
       "FbXEc0gUZ2fZmVaURSOw2nqEpMlLqTbk3LBN227CKH44LbHB1vTTQRo44Ua4XCLYlrEv7r7kS/iC\n",
       "2gAAARJBmupJ4Q8mUwIIf/6qVQAAAwAAPV71KyV9ftIUswbQDoRgCLHVvCXo+Q8GvIdA4MDUGUi8\n",
       "r9PoqNMqcgExa3i3HvIKakoAXEk+lX+M0DGdbDG43Toywe4jRn3BWP7y8ZBNOn/B1WWtpmutHTVX\n",
       "YMid3USU1dyu+uxzqy47JVkQi/WXJg16RzX2mZEj8jhLH69xMgbpVjc2coYNh8HdVBq1JxEoSWn7\n",
       "ZjCxftdxJo4OmADscxqmAvnyy7+xK/jZbGSN2cVgkLuYwzYZw47nn1E3FK3ybo4D6cBxefUG/bWL\n",
       "/3bgAHBD36i51iYggEN5kpnIivKOhenk1kkwM+g/GdZAx74fbE6MX7/uV5rN0p2p60t7AAAGNUGb\n",
       "DUnhDyZTAgj//rUqgASBV18ABZebyYJ6hWrzGSCE+ByaaxjI8cHo0SRcgxj1zZi4CIaQzWRWXw8D\n",
       "KVePQIqarujP7KrXXT/4skxw8R1R/+evWs/JDP7o7s5YLn+Oo6PPyYoWqakfebXVUi8CYu/b09Yu\n",
       "AHsT2AQ4IDFrZ0vlPzibrfwF2m98tmFuEzL1r8GBYbFQAt4Xv3ba+icQwB3zqnb/C+HejMOgmuKt\n",
       "tMB5uaSG3yxKpTWhv6TtzdmktKf6GjDPIlWQJ4C8bGLg7G7O2BsTPVJGx/82GJew/k4+p8U6FTYy\n",
       "e6LLrhARoKRTHXQozu0pepLwi6RdAQWKjx50ciiF300WqVsJ5Mj94L3UfELXPApnB72QCUpDMZlH\n",
       "137rTZSVGrzo8RcSBtFcbmIi8EFUGa3FZG1UaRyotD3L7PDf0VyZsFcEK+QhjU3UdAiDckAAyWc3\n",
       "0qUKqiDnl3s961hTqWJdNi3PmyaaExUO364nNoYdilmMfaXJXrBCcydbANh0vgkGMAERZ07F1NVW\n",
       "Bu0rkNEVDGLmZMXw3B/oQb6gHnBDv/FZVMpGF+j4qf01RU5kB5fNB0YO4L6F/FFqM/mAocvXmgG0\n",
       "ZxUZugPkTAqnb389C7YmCEnfPdWY38lVmThAF9hLYORXo9oX6axggHzeFOjnMPaFyXttjLWuEhcK\n",
       "W5236U1fKrMJsgfomWcxleOVvj6KeU0jIs5JIYD40ZtQt8I3Tx5wU9mZKXKnl4bLsqCccHeVSFKS\n",
       "lXlc8+YR5GRFWJXe4rBSZpnbu4Vxv7IvzdW5FD0zSer6IzGA8ZulHD9euaImm8I13AVLNYxNZdOu\n",
       "LUMFViEMHFMaDYyEmvptM9H3GaHut7hLpbxVvT2KCGLe8oREBL7T8Ga5UnXB/d7SpidhuYkLfjZq\n",
       "pTAYzCIk/VNzkmzxxd5Eh3rPOK0xFY1gP2u36grWPnpszNilQJ3KgVQHlW15ZDnrXBUjSdBkXXkp\n",
       "qGR3rGOzwoyULqy+wv5dGM/b9HIifUgPxowMBjDR36n4sHSctD3eST108McwmFjORxYB90kyTgi1\n",
       "d6SHqyoSKEONkb/ABS8c/LiEJqpdwS12f8XdONmZcKWBDkaVfnHSkC6AmhMhagUay6Jb3h2l0vg/\n",
       "deOiqpVvT04FCthZCt81YpaXx8TFM3JGw1nOEYNhz9EI0Bco4xM7Qn9xKrMtA4jqO7m5M637JN1p\n",
       "yz5Yf0DqEdOujmx0viRA12LQB5p+0OWNMgQ4ZrRuW9Os7LSZEf380o10ieazXEHMMyQwbSAPxOJP\n",
       "dg7q4mU/bBCYZzQxASnuw2oxkYMT8ByRBOSdVbB0sms2wKa7e7Yog+LNSXd9OBcAAjcUPwsQ1hYm\n",
       "ZeR3sc4AGNb3RyshqiFQPtexZSMD1r05Qz8hmVh0gDDzhEX/iB1ci+Y4+dhXEtwch+962KsV88Kd\n",
       "dnWbhwoMlBs1nsptNQjpaxPc/gRP7FPk/q58FFEkSTh/NRf8P0CQUMAX9iIVHSKQahzLO7MmNfvW\n",
       "aBjZ18cXsRg3GAvCSAAu8rwm8eAoLvET1W7ilA6cmyhhaBRiQ6KgsmBtsiiQiEgzCJc6AC5SGaHP\n",
       "fT3+phrD58oMkpHLTety1JE0DvT2UQ0ydKOoSOd+4uCAAgAS/QmgAAR9f6znJqJquwFixHZNynCV\n",
       "DwF2fuSYOMA/liNS8q88e/Kh3w+5hT/OZCZeuSnfpj1DBqZ1WltpgmTlT01uKEFy6lOZnapQh+8R\n",
       "LIUtaD9HnN2KO6hjlngGNFTAFNair7aadwmzA+xLBOlTTBU2m3iBFmW6jpM23d9injr1fgAboYuK\n",
       "UPWzVdwDAKZQN4td2ICMZFlWBaDw43wvtrT+36wGuMJ4q3Mb8+OSfROd85qdhNHPc5CYvXYSPut2\n",
       "qnUDP8qlBQALWj1f12PDYGyRnt1xDQp8aMFkSFtA44AV3kXyEzsH1sb1joFrXvzXxoEvawT/n+oZ\n",
       "CG0z3BEdncLcBFsGT/EBW9vWK5/b3XFGn51eXuiQjwjTCGvi6UpOwmWP8f8Iima8VkcCR5FETMcs\n",
       "viYJ0QZgTuAwPPWyfvR6iBhUG7OIfLPS1cj7Qmlzvhdw9RLpgtWM56ycM0J/MBDwAAAAn0GfK0UR\n",
       "PBD/AAWsXrGh/XdBSlTGQV8gAAAFYH91qVVl9dY+KPiypiF6q7YD04WrZT39dAf93n1lFvaVXTGA\n",
       "gQQ8Ed/w02Le+FV4e/nADZ7KzfIxcQshwW47A+23OEBMPctXsgQdWaLUiW/AUj2cU6AozQZPDoVJ\n",
       "WmYXwiTP/PgaEAuKC8tZxlOlIeGMxt2VckTJt8W1OUbG/vL8Wfq2gAAAALsBn0xqQ/8ADI+OagJ2\n",
       "5XSyU2slpgAAAwAeBDu1TLsy04S3fhsds9Xvj3ftIRK08b1/Wz2f4P354kARKh5hZYPKMGpYbuhH\n",
       "+Ltm7Gzhc1ydJ3XvMBCronKoBxrCwy3/uWTJvv9/YO37sndFoT4MozuIDUDLyViCMQxR5vo/u9V0\n",
       "D1fwcxAsgOsVnK8WS99JMwPMDML1tJWVkZ/9MXYLqlnIGahOTsgNX/jsb+ZPVt6hGlrAB/rsnvXC\n",
       "ZYmBAAABKUGbTkmoQWiZTAgh//6qVQAAAwAAAwJj80BDrtLsMBNe/giUICFXnJTq/+cfmhBHLZNd\n",
       "G0L8VMJ+Xv5aNzXfYsG/Sbvs9965ja3UWc7nIzz9lEH/jTUFnFCjBo7gHTZz9QMiOwdAxhcc3daj\n",
       "ngqUosX3z3wpDdYjZe3BcqxWhuvxFaHb87cJHOkczaNnJYirIpCYhGU+KSb69apBnlWGMDY1mMGr\n",
       "L9cD/5bkAm38xvy/RdZLKS7CdgntjsoWzFMQMV2saNhfyLReZnnDlv9tDO/gcQb41VkLeMaKxYZv\n",
       "stIuxR77SZ003y9O0ZmT7c/5j60qpkJr4qtCMQlyYk9rT4Tp7MGmJ4ZHpIKHmRVv3FBlaW4xUlA9\n",
       "/A7OazmycZkpFYCtJaCiMcbpgQAAAClBm29J4QpSZTAh//6plgAAAwAAAwNB7pRy+bcqAkQTHxQC\n",
       "w7tuCoR7rwAAA8Ztb292AAAAbG12aGQAAAAAAAAAAAAAAAAAAAPoAAAMgAABAAABAAAAAAAAAAAA\n",
       "AAAAAQAAAAAAAAAAAAAAAAAAAAEAAAAAAAAAAAAAAAAAAEAAAAAAAAAAAAAAAAAAAAAAAAAAAAAA\n",
       "AAAAAAAAAAACAAAC8HRyYWsAAABcdGtoZAAAAAMAAAAAAAAAAAAAAAEAAAAAAAAMgAAAAAAAAAAA\n",
       "AAAAAAAAAAAAAQAAAAAAAAAAAAAAAAAAAAEAAAAAAAAAAAAAAAAAAEAAAAACgAAAAeAAAAAAACRl\n",
       "ZHRzAAAAHGVsc3QAAAAAAAAAAQAADIAAABAAAAEAAAAAAmhtZGlhAAAAIG1kaGQAAAAAAAAAAAAA\n",
       "AAAAACgAAACAAFXEAAAAAAAtaGRscgAAAAAAAAAAdmlkZQAAAAAAAAAAAAAAAFZpZGVvSGFuZGxl\n",
       "cgAAAAITbWluZgAAABR2bWhkAAAAAQAAAAAAAAAAAAAAJGRpbmYAAAAcZHJlZgAAAAAAAAABAAAA\n",
       "DHVybCAAAAABAAAB03N0YmwAAACzc3RzZAAAAAAAAAABAAAAo2F2YzEAAAAAAAAAAQAAAAAAAAAA\n",
       "AAAAAAAAAAACgAHgAEgAAABIAAAAAAAAAAEAAAAAAAAAAAAAAAAAAAAAAAAAAAAAAAAAAAAAAAAA\n",
       "AAAY//8AAAAxYXZjQwFkABb/4QAYZ2QAFqzZQKA9oQAAAwABAAADAAoPFi2WAQAGaOvjyyLAAAAA\n",
       "HHV1aWRraEDyXyRPxbo5pRvPAyPzAAAAAAAAABhzdHRzAAAAAAAAAAEAAAAQAAAIAAAAABRzdHNz\n",
       "AAAAAAAAAAEAAAABAAAAaGN0dHMAAAAAAAAACwAAAAEAABAAAAAAAQAAGAAAAAABAAAIAAAAAAEA\n",
       "ABgAAAAAAQAACAAAAAABAAAYAAAAAAEAAAgAAAAABAAAEAAAAAABAAAgAAAAAAIAAAgAAAAAAgAA\n",
       "EAAAAAAcc3RzYwAAAAAAAAABAAAAAQAAABAAAAABAAAAVHN0c3oAAAAAAAAAAAAAABAAABTmAAAG\n",
       "XwAAAD0AAAFHAAAAkQAAAWUAAABUAAABbAAAAYUAAAFxAAABFgAABjkAAACjAAAAvwAAAS0AAAAt\n",
       "AAAAFHN0Y28AAAAAAAAAAQAAACwAAABidWR0YQAAAFptZXRhAAAAAAAAACFoZGxyAAAAAAAAAABt\n",
       "ZGlyYXBwbAAAAAAAAAAAAAAAAC1pbHN0AAAAJal0b28AAAAdZGF0YQAAAAEAAAAATGF2ZjU4LjI5\n",
       "LjEwMA==\n",
       "\">\n",
       "  Your browser does not support the video tag.\n",
       "</video>"
      ],
      "text/plain": [
       "<matplotlib.animation.FuncAnimation at 0x7efc4691c970>"
      ]
     },
     "execution_count": 81,
     "metadata": {},
     "output_type": "execute_result"
    },
    {
     "data": {
      "image/png": "[encoded data removed]",
      "text/plain": [
       "<Figure size 640x480 with 1 Axes>"
      ]
     },
     "metadata": {},
     "output_type": "display_data"
    }
   ],
   "source": [
    "# env1 = gym.make('CreateLevelCustomPush-v0')\n",
    "# env2 = gym.make('CreateLevelCustomPush2-v0')\n",
    "\n",
    "# # Try any environment here\n",
    "# env = env1\n",
    "\n",
    "obs = env.reset()\n",
    "print(obs.shape)\n",
    "done = False\n",
    "frames = []\n",
    "frames.append(env.render('rgb_array_high_mega_changed_colors'))\n",
    "i = 0\n",
    "while not done:\n",
    "    # action = actions[i%len(actions)]\n",
    "    # print(action)\n",
    "    # action = env.action_space.sample()\n",
    "    action = actions[i%len(actions)]\n",
    "    # print(action)\n",
    "    obs, reward, done, info = env.step(action)\n",
    "\n",
    "    print(reward)\n",
    "    frame = env.render('rgb_array_high_mega_changed_colors')\n",
    "    frames.append(frame)\n",
    "    i += 1\n",
    "\n",
    "def update(i):\n",
    "    ax.imshow(frames[i])\n",
    "\n",
    "fig, ax = plt.subplots(1,1)\n",
    "\n",
    "# Render the frames array to the screen. \n",
    "# If this doesn't work you can try another way from this StackOverflow thread: \n",
    "# https://stackoverflow.com/questions/35532498/animation-in-ipython-notebook\n",
    "ani = matplotlib.animation.FuncAnimation(fig, update, frames=len(frames))\n",
    "ani"
   ]
  },
  {
   "cell_type": "code",
   "execution_count": null,
   "metadata": {},
   "outputs": [],
   "source": [
    "env1_solver_xy = [[0.6,0.5],[-0.35,-0.5]]\n",
    "env1_solver_tools = [[0,15],[0,15]]\n",
    "env2_solver_xy = [[0.7,0.5],[-0.2,-0.5]]\n",
    "env2_solver_tools = [[15],[0,15]]\n",
    "env3_solver_xy = [[0.6,0.3],[-0.4,-0.65]]\n",
    "env3_solver_tools = [[0,15],[0]]\n",
    "env4_solver_xy = [[0.55,0.3],[-0.4,-0.5]]\n",
    "env4_solver_tools = [[0,15],[15]]\n",
    "env5_solver_xy = [[0.6,0.3],[-0.3,-0.5]]\n",
    "env5_solver_tools = [[15],[0,15]]"
   ]
  },
  {
   "cell_type": "code",
   "execution_count": 89,
   "metadata": {},
   "outputs": [
    {
     "ename": "ValueError",
     "evalue": "not enough values to unpack (expected 3, got 0)",
     "output_type": "error",
     "traceback": [
      "\u001b[0;31m---------------------------------------------------------------------------\u001b[0m",
      "\u001b[0;31mValueError\u001b[0m                                Traceback (most recent call last)",
      "Cell \u001b[0;32mIn[89], line 7\u001b[0m\n\u001b[1;32m      5\u001b[0m i \u001b[39m=\u001b[39m \u001b[39m0\u001b[39m\n\u001b[1;32m      6\u001b[0m \u001b[39mwhile\u001b[39;00m \u001b[39mnot\u001b[39;00m done:\n\u001b[0;32m----> 7\u001b[0m     tool,x,y \u001b[39m=\u001b[39m \u001b[39mmap\u001b[39m(\u001b[39mfloat\u001b[39m, \u001b[39minput\u001b[39m(\u001b[39m\"\u001b[39m\u001b[39mspace separated actions: \u001b[39m\u001b[39m\"\u001b[39m)\u001b[39m.\u001b[39msplit())\n\u001b[1;32m      8\u001b[0m     action \u001b[39m=\u001b[39m [\u001b[39mint\u001b[39m(tool),x,y]\n\u001b[1;32m      9\u001b[0m     obs, reward, done, info \u001b[39m=\u001b[39m env\u001b[39m.\u001b[39mstep(action)\n",
      "\u001b[0;31mValueError\u001b[0m: not enough values to unpack (expected 3, got 0)"
     ]
    }
   ],
   "source": [
    "env = gym.make('CreateLevelCustomPush-v0')\n",
    "obs = env.reset()\n",
    "done = False\n",
    "env.render('human')\n",
    "i = 0\n",
    "while not done:\n",
    "    tool,x,y = map(float, input(\"space separated actions: \").split())\n",
    "    action = [int(tool),x,y]\n",
    "    obs, reward, done, info = env.step(action)\n",
    "    i += 1"
   ]
  },
  {
   "cell_type": "code",
   "execution_count": 1,
   "metadata": {},
   "outputs": [],
   "source": [
    "a = input(\"list\")"
   ]
  },
  {
   "cell_type": "code",
   "execution_count": 5,
   "metadata": {},
   "outputs": [],
   "source": [
    "x, y, z = map(float, input(\"Enter integer followed by two floats, separated by spaces: \").split())"
   ]
  },
  {
   "cell_type": "code",
   "execution_count": 7,
   "metadata": {},
   "outputs": [
    {
     "data": {
      "text/plain": [
       "float"
      ]
     },
     "execution_count": 7,
     "metadata": {},
     "output_type": "execute_result"
    }
   ],
   "source": []
  },
  {
   "cell_type": "code",
   "execution_count": 18,
   "metadata": {},
   "outputs": [],
   "source": [
    "ani.save('hi.mp4')"
   ]
  },
  {
   "cell_type": "code",
   "execution_count": 7,
   "metadata": {},
   "outputs": [
    {
     "data": {
      "text/plain": [
       "Discrete(1)"
      ]
     },
     "execution_count": 7,
     "metadata": {},
     "output_type": "execute_result"
    }
   ],
   "source": [
    "env.action_space['index']"
   ]
  },
  {
   "cell_type": "code",
   "execution_count": 1,
   "metadata": {},
   "outputs": [],
   "source": [
    "import torch"
   ]
  },
  {
   "cell_type": "code",
   "execution_count": 2,
   "metadata": {},
   "outputs": [],
   "source": [
    "x = torch.randn(5, 3, 10)"
   ]
  },
  {
   "cell_type": "code",
   "execution_count": 3,
   "metadata": {},
   "outputs": [],
   "source": [
    "histograms = torch.zeros((5, 3, 10))\n",
    "for i in range(5):\n",
    "  for j in range(3):\n",
    "    histograms[i, j] = torch.histc(x[i, j], bins=10, min=0, max=10)\n",
    "    histograms[i, j] += torch.ones_like(histograms[i, j])\n",
    "    histograms[i, j] /= sum(histograms[i, j])\n",
    "  "
   ]
  },
  {
   "cell_type": "code",
   "execution_count": 7,
   "metadata": {},
   "outputs": [
    {
     "ename": "RuntimeError",
     "evalue": "prob_dist must be 1 or 2 dim",
     "output_type": "error",
     "traceback": [
      "\u001b[0;31m---------------------------------------------------------------------------\u001b[0m",
      "\u001b[0;31mRuntimeError\u001b[0m                              Traceback (most recent call last)",
      "Cell \u001b[0;32mIn[7], line 1\u001b[0m\n\u001b[0;32m----> 1\u001b[0m samples \u001b[39m=\u001b[39m torch\u001b[39m.\u001b[39;49mmultinomial(histograms, num_samples\u001b[39m=\u001b[39;49m\u001b[39m1\u001b[39;49m, replacement\u001b[39m=\u001b[39;49m\u001b[39mTrue\u001b[39;49;00m)\n",
      "\u001b[0;31mRuntimeError\u001b[0m: prob_dist must be 1 or 2 dim"
     ]
    }
   ],
   "source": [
    "samples = torch.multinomial(histograms, num_samples=1, replacement=True)"
   ]
  },
  {
   "cell_type": "code",
   "execution_count": null,
   "metadata": {},
   "outputs": [],
   "source": [
    "\n",
    "# perform random sampling based on the frequency probabilities\n",
    "samples = torch.multinomial(probabilities, num_samples=1, replacement=True)\n",
    "\n",
    "# select the samples along the last dimension of the original tensor\n",
    "selected = torch.gather(x, dim=-1, index=samples)"
   ]
  },
  {
   "cell_type": "code",
   "execution_count": 1,
   "metadata": {},
   "outputs": [],
   "source": [
    "import math\n",
    "import random\n",
    "import json\n",
    "\n",
    "MARKER_BALL = (0.6,0.75)\n",
    "MEDIUM_FLOOR_0 = (0.1,-0.25)\n",
    "MEDIUM_FLOOR_1 = (-0.7,-0.75)\n",
    "GOAL_STAR = (-0.7, -0.75)\n",
    "TARGET = (0.1, -0.25)\n",
    "RADIUS = 0.2\n",
    "\n",
    "def get_placement(centre, radius):\n",
    "    # random angle\n",
    "    alpha = 2 * math.pi * random.random()\n",
    "    # random radius\n",
    "    r = radius * math.sqrt(random.random())\n",
    "    # calculating coordinates\n",
    "    x = round(r * math.cos(alpha) + centre[0],2)\n",
    "    y = round(r * math.sin(alpha) + centre[1],2)\n",
    "    if x<-1 or x>1:\n",
    "        if abs(-1-x)>abs(1-x):\n",
    "            x = 0.9\n",
    "        else:\n",
    "            x = -0.9\n",
    "\n",
    "    if y<-1 or y>1:\n",
    "        if abs(-1-y)>abs(1-y):\n",
    "            y = 0.9\n",
    "        else:\n",
    "            y = -0.9\n",
    "\n",
    "    new_pos = (x, y)\n",
    "    return new_pos\n",
    "\n",
    "def read_custom_json(filename):\n",
    "    custom_json_obj = json.load(open(filename))\n",
    "    return custom_json_obj\n",
    "\n",
    "def rewrite_json(custom_json_obj):\n",
    "    new_marker_ball = get_placement(MARKER_BALL, RADIUS)\n",
    "    new_medium_floor_0 = get_placement(MEDIUM_FLOOR_0, RADIUS)\n",
    "    new_medium_floor_1 = get_placement(MEDIUM_FLOOR_1, RADIUS)\n",
    "    new_target = get_placement(TARGET, RADIUS)\n",
    "    new_goal = get_placement(GOAL_STAR, RADIUS)\n",
    "\n",
    "    custom_json_obj[\"target\"] = \"[\"+str(new_target[0]) + \", \" + str(new_target[1])+\" + OFFSET]\"\n",
    "    custom_json_obj[\"goal\"] = \"[\"+str(new_goal[0]) + \", \" + str(new_goal[1])+\" +  OFFSET]\"\n",
    "\n",
    "    \n",
    "    custom_json_obj[\"env\"][0][\"pos\"] = [new_marker_ball[0], new_marker_ball[1]]\n",
    "    custom_json_obj[\"env\"][1][\"pos\"] = \"[\"+str(new_target[0]) + \", \" + str(new_target[1])+\"]\"\n",
    "    custom_json_obj[\"env\"][2][\"pos\"] = \"[\"+str(new_goal[0]) + \", \" + str(new_goal[1])+\"]\"\n",
    "\n",
    "    return custom_json_obj\n",
    "\n",
    "ans = read_custom_json(\"/home/soham/USC/Courses/CSCI566_DeepLearning/CREATE/examples/custom_json/level_custom.json\")\n",
    "\n",
    "new_custom_json = rewrite_json(ans)\n",
    "\n",
    "\n",
    "# Serializing json\n",
    "json_object = json.dumps(new_custom_json, indent=4)"
   ]
  },
  {
   "cell_type": "code",
   "execution_count": 7,
   "metadata": {},
   "outputs": [
    {
     "ename": "Error",
     "evalue": "Cannot re-register id: CreateLevelCustomPush_Det-v0",
     "output_type": "error",
     "traceback": [
      "\u001b[0;31m---------------------------------------------------------------------------\u001b[0m",
      "\u001b[0;31mError\u001b[0m                                     Traceback (most recent call last)",
      "Cell \u001b[0;32mIn[7], line 1\u001b[0m\n\u001b[0;32m----> 1\u001b[0m register_json_str(json_object)\n",
      "File \u001b[0;32m~/USC/Courses/CSCI566_DeepLearning/CREATE/examples/../create_game/levels/lvl_config.py:66\u001b[0m, in \u001b[0;36mregister_json_str\u001b[0;34m(json_str)\u001b[0m\n\u001b[1;32m     64\u001b[0m \u001b[39mdef\u001b[39;00m \u001b[39mregister_json_str\u001b[39m(json_str):\n\u001b[1;32m     65\u001b[0m     jf \u001b[39m=\u001b[39m json\u001b[39m.\u001b[39mloads(json_str)\n\u001b[0;32m---> 66\u001b[0m     _parse_json_obj(jf, json\u001b[39m.\u001b[39;49mdumps(jf)\u001b[39m.\u001b[39;49mreplace(\u001b[39m'\u001b[39;49m\u001b[39m\"\u001b[39;49m\u001b[39m'\u001b[39;49m, \u001b[39m'\u001b[39;49m\u001b[39m\\\\\u001b[39;49;00m\u001b[39m\"\u001b[39;49m\u001b[39m'\u001b[39;49m))\n",
      "File \u001b[0;32m~/USC/Courses/CSCI566_DeepLearning/CREATE/examples/../create_game/levels/lvl_config.py:41\u001b[0m, in \u001b[0;36m_parse_json_obj\u001b[0;34m(jf, jf_str)\u001b[0m\n\u001b[1;32m     37\u001b[0m exec(\u001b[39m'\u001b[39m\u001b[39mglobals()[\u001b[39m\u001b[39m\"\u001b[39m\u001b[39m%s\u001b[39;00m\u001b[39m\"\u001b[39m\u001b[39m] = \u001b[39m\u001b[39m%s\u001b[39;00m\u001b[39m'\u001b[39m \u001b[39m%\u001b[39m (other_rnd_lvl_name, other_rnd_lvl_name))\n\u001b[1;32m     39\u001b[0m base_package_loc \u001b[39m=\u001b[39m \u001b[39m__name__\u001b[39m\n\u001b[0;32m---> 41\u001b[0m register(\n\u001b[1;32m     42\u001b[0m     \u001b[39mid\u001b[39;49m\u001b[39m=\u001b[39;49mlvl_name \u001b[39m+\u001b[39;49m \u001b[39m'\u001b[39;49m\u001b[39m-v0\u001b[39;49m\u001b[39m'\u001b[39;49m,\n\u001b[1;32m     43\u001b[0m     entry_point \u001b[39m=\u001b[39;49m base_package_loc \u001b[39m+\u001b[39;49m \u001b[39m'\u001b[39;49m\u001b[39m:\u001b[39;49m\u001b[39m'\u001b[39;49m \u001b[39m+\u001b[39;49m lvl_name\n\u001b[1;32m     44\u001b[0m )\n\u001b[1;32m     45\u001b[0m register(\n\u001b[1;32m     46\u001b[0m     \u001b[39mid\u001b[39m\u001b[39m=\u001b[39mrnd_lvl_name \u001b[39m+\u001b[39m \u001b[39m'\u001b[39m\u001b[39m-v0\u001b[39m\u001b[39m'\u001b[39m,\n\u001b[1;32m     47\u001b[0m     entry_point \u001b[39m=\u001b[39m base_package_loc \u001b[39m+\u001b[39m \u001b[39m'\u001b[39m\u001b[39m:\u001b[39m\u001b[39m'\u001b[39m \u001b[39m+\u001b[39m rnd_lvl_name\n\u001b[1;32m     48\u001b[0m )\n\u001b[1;32m     49\u001b[0m register(\n\u001b[1;32m     50\u001b[0m     \u001b[39mid\u001b[39m\u001b[39m=\u001b[39mother_rnd_lvl_name \u001b[39m+\u001b[39m \u001b[39m'\u001b[39m\u001b[39m-v0\u001b[39m\u001b[39m'\u001b[39m,\n\u001b[1;32m     51\u001b[0m     entry_point \u001b[39m=\u001b[39m base_package_loc \u001b[39m+\u001b[39m \u001b[39m'\u001b[39m\u001b[39m:\u001b[39m\u001b[39m'\u001b[39m \u001b[39m+\u001b[39m other_rnd_lvl_name\n\u001b[1;32m     52\u001b[0m )\n",
      "File \u001b[0;32m~/USC/Courses/CSCI566_DeepLearning/create/lib/python3.8/site-packages/gym/envs/registration.py:153\u001b[0m, in \u001b[0;36mregister\u001b[0;34m(id, **kwargs)\u001b[0m\n\u001b[1;32m    152\u001b[0m \u001b[39mdef\u001b[39;00m \u001b[39mregister\u001b[39m(\u001b[39mid\u001b[39m, \u001b[39m*\u001b[39m\u001b[39m*\u001b[39mkwargs):\n\u001b[0;32m--> 153\u001b[0m     \u001b[39mreturn\u001b[39;00m registry\u001b[39m.\u001b[39;49mregister(\u001b[39mid\u001b[39;49m, \u001b[39m*\u001b[39;49m\u001b[39m*\u001b[39;49mkwargs)\n",
      "File \u001b[0;32m~/USC/Courses/CSCI566_DeepLearning/create/lib/python3.8/site-packages/gym/envs/registration.py:146\u001b[0m, in \u001b[0;36mEnvRegistry.register\u001b[0;34m(self, id, **kwargs)\u001b[0m\n\u001b[1;32m    144\u001b[0m \u001b[39mdef\u001b[39;00m \u001b[39mregister\u001b[39m(\u001b[39mself\u001b[39m, \u001b[39mid\u001b[39m, \u001b[39m*\u001b[39m\u001b[39m*\u001b[39mkwargs):\n\u001b[1;32m    145\u001b[0m     \u001b[39mif\u001b[39;00m \u001b[39mid\u001b[39m \u001b[39min\u001b[39;00m \u001b[39mself\u001b[39m\u001b[39m.\u001b[39menv_specs:\n\u001b[0;32m--> 146\u001b[0m         \u001b[39mraise\u001b[39;00m error\u001b[39m.\u001b[39mError(\u001b[39m'\u001b[39m\u001b[39mCannot re-register id: \u001b[39m\u001b[39m{}\u001b[39;00m\u001b[39m'\u001b[39m\u001b[39m.\u001b[39mformat(\u001b[39mid\u001b[39m))\n\u001b[1;32m    147\u001b[0m     \u001b[39mself\u001b[39m\u001b[39m.\u001b[39menv_specs[\u001b[39mid\u001b[39m] \u001b[39m=\u001b[39m EnvSpec(\u001b[39mid\u001b[39m, \u001b[39m*\u001b[39m\u001b[39m*\u001b[39mkwargs)\n",
      "\u001b[0;31mError\u001b[0m: Cannot re-register id: CreateLevelCustomPush_Det-v0"
     ]
    }
   ],
   "source": [
    "register_json_str(json_object)"
   ]
  },
  {
   "cell_type": "code",
   "execution_count": 5,
   "metadata": {},
   "outputs": [],
   "source": [
    "import math\n",
    "import random\n",
    "import json\n",
    "import sys\n",
    "# from create_game import register_json_folder, register_json_str\n",
    "import gym\n",
    "\n",
    "MARKER_BALL = (0.6,0.75)\n",
    "MEDIUM_FLOOR_0 = (0.1,-0.25)\n",
    "MEDIUM_FLOOR_1 = (-0.7,-0.75)\n",
    "GOAL_STAR = (-0.7, -0.75)\n",
    "TARGET = (0.1, -0.25)\n",
    "RADIUS = 0.15\n",
    "\n",
    "def get_placement(centre, radius):\n",
    "    # random angle\n",
    "    alpha = 2 * math.pi * random.random()\n",
    "    # random radius\n",
    "    r = radius * math.sqrt(random.random())\n",
    "    # calculating coordinates\n",
    "    x = round(r * math.cos(alpha) + centre[0],2)\n",
    "    y = round(r * math.sin(alpha) + centre[1],2)\n",
    "    if x<-1 or x>1:\n",
    "        if abs(-1-x)>abs(1-x):\n",
    "            x = 0.9\n",
    "        else:\n",
    "            x = -0.9\n",
    "\n",
    "    if y<-1 or y>1:\n",
    "        if abs(-1-y)>abs(1-y):\n",
    "            y = 0.9\n",
    "        else:\n",
    "            y = -0.9\n",
    "\n",
    "    new_pos = (x, y)\n",
    "    return new_pos\n",
    "\n",
    "def read_custom_json(filename):\n",
    "    custom_json_obj = json.load(open(filename))\n",
    "    return custom_json_obj\n",
    "\n",
    "def rewrite_json(custom_json_obj, new_name):\n",
    "    new_marker_ball = get_placement(MARKER_BALL, RADIUS)\n",
    "    new_medium_floor_0 = get_placement(MEDIUM_FLOOR_0, RADIUS)\n",
    "    new_medium_floor_1 = get_placement(MEDIUM_FLOOR_1, RADIUS)\n",
    "    new_target = get_placement(TARGET, RADIUS)\n",
    "    new_goal = get_placement(GOAL_STAR, RADIUS)\n",
    "\n",
    "    custom_json_obj[\"target\"] = \"[\"+str(new_target[0]) + \", \" + str(new_target[1])+\" + OFFSET]\"\n",
    "    custom_json_obj[\"goal\"] = \"[\"+str(new_goal[0]) + \", \" + str(new_goal[1])+\" +  OFFSET]\"\n",
    "\n",
    "    \n",
    "    custom_json_obj[\"env\"][0][\"pos\"] = [new_marker_ball[0], new_marker_ball[1]]\n",
    "    custom_json_obj[\"env\"][1][\"pos\"] = \"[\"+str(new_target[0]) + \", \" + str(new_target[1])+\"]\"\n",
    "    custom_json_obj[\"env\"][2][\"pos\"] = \"[\"+str(new_goal[0]) + \", \" + str(new_goal[1])+\"]\"\n",
    "\n",
    "    custom_json_obj[\"name\"] = new_name\n",
    "\n",
    "    return custom_json_obj\n",
    "\n",
    "def create_random_env(env_prefix, n):\n",
    "    ans = read_custom_json(\"/home/soham/USC/Courses/CSCI566_DeepLearning/CREATE/examples/custom_json_2/level_custom.json\")\n",
    "    # register_json_folder('./random_envs')\n",
    "    env_list = []\n",
    "\n",
    "    for i in range(n):\n",
    "        new_name = env_prefix+\"CustomPush\"+str(i)\n",
    "\n",
    "        new_custom_json = rewrite_json(ans, new_name)\n",
    "\n",
    "        # Serializing json\n",
    "        json_object = json.dumps(new_custom_json, indent=4)\n",
    "        \n",
    "        # Writing to random envs\n",
    "        filename = \"./five_envs/\"+new_name+\".json\"\n",
    "        \n",
    "        with open(filename, \"w\") as outfile:\n",
    "            outfile.write(json_object)\n",
    "\n",
    "        # create env\n",
    "        register_json_str(json_object)\n",
    "        env = gym.make('CreateLevel'+new_name+'-v0')\n",
    "        env_list.append(env)\n",
    "\n",
    "    return env_list\n",
    "\n",
    "register_json_folder('/home/soham/USC/Courses/CSCI566_DeepLearning/CREATE/examples/five_envs')\n",
    "env_list = create_random_env(env_prefix=\"Two\", n=5)"
   ]
  },
  {
   "cell_type": "code",
   "execution_count": 10,
   "metadata": {},
   "outputs": [
    {
     "data": {
      "text/plain": [
       "<create_game.levels.lvl_config.CreateLevelTwoCustomPush0 at 0x7faff72714f0>"
      ]
     },
     "execution_count": 10,
     "metadata": {},
     "output_type": "execute_result"
    }
   ],
   "source": [
    "env_list[0]"
   ]
  },
  {
   "cell_type": "code",
   "execution_count": 4,
   "metadata": {},
   "outputs": [],
   "source": [
    "# register_json_folder('/home/soham/USC/Courses/CSCI566_DeepLearning/CREATE/examples/five_envs')\n",
    "env =gym.make('CreateLevelTwoCustomPush0-v0')"
   ]
  },
  {
   "cell_type": "code",
   "execution_count": 5,
   "metadata": {},
   "outputs": [
    {
     "data": {
      "text/plain": [
       "<create_game.levels.lvl_config.CreateLevelTwoCustomPush0 at 0x7fe03d3949d0>"
      ]
     },
     "execution_count": 5,
     "metadata": {},
     "output_type": "execute_result"
    }
   ],
   "source": [
    "env"
   ]
  },
  {
   "cell_type": "code",
   "execution_count": null,
   "metadata": {},
   "outputs": [],
   "source": []
  }
 ],
 "metadata": {
  "kernelspec": {
   "display_name": "create",
   "language": "python",
   "name": "create"
  },
  "language_info": {
   "codemirror_mode": {
    "name": "ipython",
    "version": 3
   },
   "file_extension": ".py",
   "mimetype": "text/x-python",
   "name": "python",
   "nbconvert_exporter": "python",
   "pygments_lexer": "ipython3",
   "version": "3.8.10"
  }
 },
 "nbformat": 4,
 "nbformat_minor": 2
}
